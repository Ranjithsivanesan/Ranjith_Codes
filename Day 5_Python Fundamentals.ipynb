{
 "cells": [
  {
   "cell_type": "code",
   "execution_count": 60,
   "metadata": {},
   "outputs": [
    {
     "name": "stdout",
     "output_type": "stream",
     "text": [
      "['ranjith', 'rajesh', 'suresh', 'vijay', 'ajay']\n"
     ]
    }
   ],
   "source": [
    "students=['ranjith','rajesh','suresh','vijay','ajay']\n",
    "\n",
    "print(students)"
   ]
  },
  {
   "cell_type": "code",
   "execution_count": 61,
   "metadata": {},
   "outputs": [
    {
     "name": "stdout",
     "output_type": "stream",
     "text": [
      "wish you a happy new year, ['ranjith', 'rajesh', 'suresh', 'vijay', 'ajay']\n"
     ]
    }
   ],
   "source": [
    "print(f\"wish you a happy new year, {students}\")"
   ]
  },
  {
   "cell_type": "code",
   "execution_count": 62,
   "metadata": {},
   "outputs": [
    {
     "name": "stdout",
     "output_type": "stream",
     "text": [
      "wish you a happy new year, ranjith\n"
     ]
    }
   ],
   "source": [
    "print(f\"wish you a happy new year, {students[0]}\")"
   ]
  },
  {
   "cell_type": "code",
   "execution_count": 63,
   "metadata": {},
   "outputs": [
    {
     "name": "stdout",
     "output_type": "stream",
     "text": [
      "['ranjith', 'rajesh', 'suresh', 'vijay', 'ajay']\n"
     ]
    }
   ],
   "source": [
    "print(students)"
   ]
  },
  {
   "cell_type": "code",
   "execution_count": 64,
   "metadata": {},
   "outputs": [
    {
     "name": "stdout",
     "output_type": "stream",
     "text": [
      "congrats you are toppers, ranjith\n",
      "can you guide others to score more, ranjith\n",
      "congrats you are toppers, rajesh\n",
      "can you guide others to score more, rajesh\n",
      "congrats you are toppers, suresh\n",
      "can you guide others to score more, suresh\n",
      "congrats you are toppers, vijay\n",
      "can you guide others to score more, vijay\n",
      "congrats you are toppers, ajay\n",
      "can you guide others to score more, ajay\n"
     ]
    }
   ],
   "source": [
    "for x in students:\n",
    "    print(f\"congrats you are toppers, {x}\")\n",
    "    print(f\"can you guide others to score more, {x}\")"
   ]
  },
  {
   "cell_type": "code",
   "execution_count": 65,
   "metadata": {},
   "outputs": [
    {
     "name": "stdout",
     "output_type": "stream",
     "text": [
      "Congrats you are Toppers, Ranjith\n",
      "Can you guide others to score more, Ranjith\n",
      "Congrats you are Toppers, Rajesh\n",
      "Can you guide others to score more, Rajesh\n",
      "Congrats you are Toppers, Suresh\n",
      "Can you guide others to score more, Suresh\n",
      "Congrats you are Toppers, Vijay\n",
      "Can you guide others to score more, Vijay\n",
      "Congrats you are Toppers, Ajay\n",
      "Can you guide others to score more, Ajay\n"
     ]
    }
   ],
   "source": [
    "for x in students:\n",
    "    print(f\"Congrats you are Toppers, {x.title()}\")\n",
    "    print(f\"Can you guide others to score more, {x.title()}\")"
   ]
  },
  {
   "cell_type": "code",
   "execution_count": 66,
   "metadata": {},
   "outputs": [
    {
     "name": "stdout",
     "output_type": "stream",
     "text": [
      "Congrats you are Toppers, RANJITH\n",
      "Can you guide others to score more, RANJITH\n",
      "Congrats you are Toppers, RAJESH\n",
      "Can you guide others to score more, RAJESH\n",
      "Congrats you are Toppers, SURESH\n",
      "Can you guide others to score more, SURESH\n",
      "Congrats you are Toppers, VIJAY\n",
      "Can you guide others to score more, VIJAY\n",
      "Congrats you are Toppers, AJAY\n",
      "Can you guide others to score more, AJAY\n"
     ]
    }
   ],
   "source": [
    "for x in students:\n",
    "    print(f\"Congrats you are Toppers, {x.upper()}\")\n",
    "    print(f\"Can you guide others to score more, {x.upper()}\")"
   ]
  },
  {
   "cell_type": "code",
   "execution_count": 67,
   "metadata": {},
   "outputs": [
    {
     "name": "stdout",
     "output_type": "stream",
     "text": [
      "Congrats you are Toppers, Ranjith\n",
      "Can you guide others to score more, Ranjith.\n",
      "\n",
      "Congrats you are Toppers, Rajesh\n",
      "Can you guide others to score more, Rajesh.\n",
      "\n",
      "Congrats you are Toppers, Suresh\n",
      "Can you guide others to score more, Suresh.\n",
      "\n",
      "Congrats you are Toppers, Vijay\n",
      "Can you guide others to score more, Vijay.\n",
      "\n",
      "Congrats you are Toppers, Ajay\n",
      "Can you guide others to score more, Ajay.\n",
      "\n"
     ]
    }
   ],
   "source": [
    "for x in students:\n",
    "    print(f\"Congrats you are Toppers, {x.title()}\")\n",
    "    print(f\"Can you guide others to score more, {x.title()}.\\n\")"
   ]
  },
  {
   "cell_type": "code",
   "execution_count": 68,
   "metadata": {},
   "outputs": [
    {
     "name": "stdout",
     "output_type": "stream",
     "text": [
      "Congrats you are Toppers, Ranjith\n",
      "Can you guide others to score more, Ranjith.\n",
      "\n",
      "Hope everyone is ready to help others\n",
      "Congrats you are Toppers, Rajesh\n",
      "Can you guide others to score more, Rajesh.\n",
      "\n",
      "Hope everyone is ready to help others\n",
      "Congrats you are Toppers, Suresh\n",
      "Can you guide others to score more, Suresh.\n",
      "\n",
      "Hope everyone is ready to help others\n",
      "Congrats you are Toppers, Vijay\n",
      "Can you guide others to score more, Vijay.\n",
      "\n",
      "Hope everyone is ready to help others\n",
      "Congrats you are Toppers, Ajay\n",
      "Can you guide others to score more, Ajay.\n",
      "\n",
      "Hope everyone is ready to help others\n"
     ]
    }
   ],
   "source": [
    "for x in students:\n",
    "    print(f\"Congrats you are Toppers, {x.title()}\")\n",
    "    print(f\"Can you guide others to score more, {x.title()}.\\n\")\n",
    "    \n",
    "    print(\"Hope everyone is ready to help others\")"
   ]
  },
  {
   "cell_type": "code",
   "execution_count": 70,
   "metadata": {},
   "outputs": [
    {
     "name": "stdout",
     "output_type": "stream",
     "text": [
      "['ajay', 'rajesh', 'ranjith', 'suresh', 'vijay']\n"
     ]
    }
   ],
   "source": [
    "print(sorted(students))"
   ]
  },
  {
   "cell_type": "code",
   "execution_count": 71,
   "metadata": {},
   "outputs": [
    {
     "name": "stdout",
     "output_type": "stream",
     "text": [
      "['ranjith', 'rajesh', 'suresh', 'vijay', 'ajay']\n"
     ]
    }
   ],
   "source": [
    "print(students)"
   ]
  },
  {
   "cell_type": "code",
   "execution_count": 74,
   "metadata": {},
   "outputs": [
    {
     "name": "stdout",
     "output_type": "stream",
     "text": [
      "['ajay', 'rajesh', 'ranjith', 'suresh', 'vijay']\n"
     ]
    }
   ],
   "source": [
    "students.sort()\n",
    "print(students)"
   ]
  },
  {
   "cell_type": "code",
   "execution_count": 75,
   "metadata": {},
   "outputs": [
    {
     "name": "stdout",
     "output_type": "stream",
     "text": [
      "['ajay', 'rajesh', 'ranjith', 'suresh', 'vijay']\n"
     ]
    }
   ],
   "source": [
    "print(students)"
   ]
  },
  {
   "cell_type": "code",
   "execution_count": null,
   "metadata": {},
   "outputs": [],
   "source": []
  }
 ],
 "metadata": {
  "kernelspec": {
   "display_name": "Python 3",
   "language": "python",
   "name": "python3"
  },
  "language_info": {
   "codemirror_mode": {
    "name": "ipython",
    "version": 3
   },
   "file_extension": ".py",
   "mimetype": "text/x-python",
   "name": "python",
   "nbconvert_exporter": "python",
   "pygments_lexer": "ipython3",
   "version": "3.7.6"
  }
 },
 "nbformat": 4,
 "nbformat_minor": 4
}
