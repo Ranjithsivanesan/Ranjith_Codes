{
 "cells": [
  {
   "cell_type": "code",
   "execution_count": 6,
   "metadata": {},
   "outputs": [
    {
     "name": "stdout",
     "output_type": "stream",
     "text": [
      "ranjith kumar\n"
     ]
    }
   ],
   "source": [
    "first_name=\"ranjith\"\n",
    "last_name=\"kumar\"\n",
    "name=(f\"{first_name} {last_name}\")\n",
    "print(name)"
   ]
  },
  {
   "cell_type": "code",
   "execution_count": 7,
   "metadata": {},
   "outputs": [
    {
     "name": "stdout",
     "output_type": "stream",
     "text": [
      "Hai,ranjith kumar\n"
     ]
    }
   ],
   "source": [
    "message=(f\"Hai,{first_name} {last_name}\")\n",
    "print(message)"
   ]
  },
  {
   "cell_type": "code",
   "execution_count": 11,
   "metadata": {},
   "outputs": [
    {
     "name": "stdout",
     "output_type": "stream",
     "text": [
      "ranjith\n",
      "sakthi\n",
      "samy\n",
      "senthil\n",
      "\n"
     ]
    }
   ],
   "source": [
    "name1=\"ranjith\"\n",
    "name2=\"sakthi\"\n",
    "name3=\"samy\"\n",
    "name4=\"senthil\"\n",
    "print(f\"{name1}\\n{name2}\\n{name3}\\n{name4}\\n\")"
   ]
  },
  {
   "cell_type": "code",
   "execution_count": 16,
   "metadata": {},
   "outputs": [
    {
     "name": "stdout",
     "output_type": "stream",
     "text": [
      "ranjith\n",
      "\tsakthi\n",
      "\t\tsamy\n",
      "\t\t\tsenthil\n"
     ]
    }
   ],
   "source": [
    "print(f\"{name1}\\n\\t{name2}\\n\\t\\t{name3}\\n\\t\\t\\t{name4}\")"
   ]
  },
  {
   "cell_type": "code",
   "execution_count": 23,
   "metadata": {},
   "outputs": [
    {
     "name": "stdout",
     "output_type": "stream",
     "text": [
      "suresh\n"
     ]
    }
   ],
   "source": [
    "name5=\"suresh  \"\n",
    "print(name5.rstrip())"
   ]
  },
  {
   "cell_type": "code",
   "execution_count": 21,
   "metadata": {},
   "outputs": [
    {
     "name": "stdout",
     "output_type": "stream",
     "text": [
      "ramesh\n"
     ]
    }
   ],
   "source": [
    "name6=\"  ramesh\"\n",
    "print(name6.lstrip())"
   ]
  },
  {
   "cell_type": "code",
   "execution_count": 26,
   "metadata": {},
   "outputs": [
    {
     "name": "stdout",
     "output_type": "stream",
     "text": [
      "rajesh\n"
     ]
    }
   ],
   "source": [
    "name7=\"    rajesh    \"\n",
    "print(name7.strip())"
   ]
  },
  {
   "cell_type": "code",
   "execution_count": null,
   "metadata": {},
   "outputs": [],
   "source": []
  }
 ],
 "metadata": {
  "kernelspec": {
   "display_name": "Python 3",
   "language": "python",
   "name": "python3"
  },
  "language_info": {
   "codemirror_mode": {
    "name": "ipython",
    "version": 3
   },
   "file_extension": ".py",
   "mimetype": "text/x-python",
   "name": "python",
   "nbconvert_exporter": "python",
   "pygments_lexer": "ipython3",
   "version": "3.7.6"
  }
 },
 "nbformat": 4,
 "nbformat_minor": 4
}
